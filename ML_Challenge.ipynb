{
  "nbformat": 4,
  "nbformat_minor": 0,
  "metadata": {
    "colab": {
      "name": "ML_Challenge.ipynb",
      "provenance": [],
      "collapsed_sections": []
    },
    "kernelspec": {
      "name": "python3",
      "display_name": "Python 3"
    },
    "language_info": {
      "name": "python"
    }
  },
  "cells": [
    {
      "cell_type": "markdown",
      "metadata": {
        "id": "O34tUN6BIi_h"
      },
      "source": [
        "# **Initializing**"
      ]
    },
    {
      "cell_type": "code",
      "metadata": {
        "id": "FM0e_4t2gPbj"
      },
      "source": [
        "import numpy as np\n",
        "import matplotlib.pyplot as plt\n",
        "import pandas as pd\n",
        "import random\n",
        "import xgboost as xgb\n",
        "\n",
        "from sklearn.base import BaseEstimator, TransformerMixin\n",
        "from sklearn.linear_model import BayesianRidge\n",
        "from sklearn.metrics import mean_squared_error, mean_absolute_error, make_scorer\n",
        "from sklearn.model_selection import KFold, train_test_split, cross_val_score\n",
        "from sklearn.impute import SimpleImputer\n",
        "from sklearn.metrics import roc_curve, roc_auc_score\n",
        "from sklearn.model_selection import RepeatedKFold\n",
        "from sklearn.preprocessing import MinMaxScaler, StandardScaler\n",
        "from xgboost import XGBRegressor\n",
        "\n",
        "%matplotlib inline\n"
      ],
      "execution_count": 209,
      "outputs": []
    },
    {
      "cell_type": "code",
      "metadata": {
        "id": "dC5C9zqxEGdR"
      },
      "source": [
        "class TargetEncoder(BaseEstimator, TransformerMixin):\n",
        "    \"\"\"Target encoder.\n",
        "    \n",
        "    Replaces categorical column(s) with the mean target value for\n",
        "    each category.\n",
        "\n",
        "    \"\"\"\n",
        "    \n",
        "    def __init__(self, cols=None):\n",
        "        \"\"\"Target encoder\n",
        "        \n",
        "        Parameters\n",
        "        ----------\n",
        "        cols : list of str\n",
        "            Columns to target encode.  Default is to target \n",
        "            encode all categorical columns in the DataFrame.\n",
        "        \"\"\"\n",
        "        if isinstance(cols, str):\n",
        "            self.cols = [cols]\n",
        "        else:\n",
        "            self.cols = cols\n",
        "        \n",
        "        \n",
        "    def fit(self, X, y):\n",
        "        \"\"\"Fit target encoder to X and y\n",
        "        \n",
        "        Parameters\n",
        "        ----------\n",
        "        X : pandas DataFrame, shape [n_samples, n_columns]\n",
        "            DataFrame containing columns to encode\n",
        "        y : pandas Series, shape = [n_samples]\n",
        "            Target values.\n",
        "            \n",
        "        Returns\n",
        "        -------\n",
        "        self : encoder\n",
        "            Returns self.\n",
        "        \"\"\"\n",
        "        \n",
        "        # Encode all categorical cols by default\n",
        "        if self.cols is None:\n",
        "            self.cols = [col for col in X \n",
        "                         if str(X[col].dtype)=='object']\n",
        "\n",
        "        # Check columns are in X\n",
        "        for col in self.cols:\n",
        "            if col not in X:\n",
        "                raise ValueError('Column \\''+col+'\\' not in X')\n",
        "\n",
        "        # Encode each element of each column\n",
        "        self.maps = dict() #dict to store map for each column\n",
        "        for col in self.cols:\n",
        "            tmap = dict()\n",
        "            uniques = X[col].unique()\n",
        "            for unique in uniques:\n",
        "                tmap[unique] = y[X[col]==unique].mean()\n",
        "            self.maps[col] = tmap\n",
        "            \n",
        "        return self\n",
        "\n",
        "        \n",
        "    def transform(self, X, y=None):\n",
        "        \"\"\"Perform the target encoding transformation.\n",
        "        \n",
        "        Parameters\n",
        "        ----------\n",
        "        X : pandas DataFrame, shape [n_samples, n_columns]\n",
        "            DataFrame containing columns to encode\n",
        "            \n",
        "        Returns\n",
        "        -------\n",
        "        pandas DataFrame\n",
        "            Input DataFrame with transformed columns\n",
        "        \"\"\"\n",
        "        Xo = X.copy()\n",
        "        for col, tmap in self.maps.items():\n",
        "            vals = np.full(X.shape[0], np.nan)\n",
        "            for val, mean_target in tmap.items():\n",
        "                vals[X[col]==val] = mean_target\n",
        "            Xo[col] = vals\n",
        "        return Xo\n",
        "            \n",
        "            \n",
        "    def fit_transform(self, X, y=None):\n",
        "        \"\"\"Fit and transform the data via target encoding.\n",
        "        \n",
        "        Parameters\n",
        "        ----------\n",
        "        X : pandas DataFrame, shape [n_samples, n_columns]\n",
        "            DataFrame containing columns to encode\n",
        "        y : pandas Series, shape = [n_samples]\n",
        "            Target values (required!).\n",
        "\n",
        "        Returns\n",
        "        -------\n",
        "        pandas DataFrame\n",
        "            Input DataFrame with transformed columns\n",
        "        \"\"\"\n",
        "        return self.fit(X, y).transform(X, y)"
      ],
      "execution_count": 210,
      "outputs": []
    },
    {
      "cell_type": "code",
      "metadata": {
        "colab": {
          "base_uri": "https://localhost:8080/"
        },
        "id": "xrrXPJQGXxsi",
        "outputId": "464dbbb2-2e34-4a2d-b11c-22fc6adca597"
      },
      "source": [
        "!pip install category_encoders"
      ],
      "execution_count": 211,
      "outputs": [
        {
          "output_type": "stream",
          "name": "stdout",
          "text": [
            "Requirement already satisfied: category_encoders in /usr/local/lib/python3.7/dist-packages (2.2.2)\n",
            "Requirement already satisfied: patsy>=0.5.1 in /usr/local/lib/python3.7/dist-packages (from category_encoders) (0.5.1)\n",
            "Requirement already satisfied: statsmodels>=0.9.0 in /usr/local/lib/python3.7/dist-packages (from category_encoders) (0.10.2)\n",
            "Requirement already satisfied: numpy>=1.14.0 in /usr/local/lib/python3.7/dist-packages (from category_encoders) (1.19.5)\n",
            "Requirement already satisfied: pandas>=0.21.1 in /usr/local/lib/python3.7/dist-packages (from category_encoders) (1.1.5)\n",
            "Requirement already satisfied: scikit-learn>=0.20.0 in /usr/local/lib/python3.7/dist-packages (from category_encoders) (0.22.2.post1)\n",
            "Requirement already satisfied: scipy>=1.0.0 in /usr/local/lib/python3.7/dist-packages (from category_encoders) (1.4.1)\n",
            "Requirement already satisfied: pytz>=2017.2 in /usr/local/lib/python3.7/dist-packages (from pandas>=0.21.1->category_encoders) (2018.9)\n",
            "Requirement already satisfied: python-dateutil>=2.7.3 in /usr/local/lib/python3.7/dist-packages (from pandas>=0.21.1->category_encoders) (2.8.2)\n",
            "Requirement already satisfied: six in /usr/local/lib/python3.7/dist-packages (from patsy>=0.5.1->category_encoders) (1.15.0)\n",
            "Requirement already satisfied: joblib>=0.11 in /usr/local/lib/python3.7/dist-packages (from scikit-learn>=0.20.0->category_encoders) (1.0.1)\n"
          ]
        }
      ]
    },
    {
      "cell_type": "markdown",
      "metadata": {
        "id": "wsTzihAyIreC"
      },
      "source": [
        "# **Loading Data**"
      ]
    },
    {
      "cell_type": "code",
      "metadata": {
        "id": "Raz-E2-Crgbc",
        "colab": {
          "base_uri": "https://localhost:8080/"
        },
        "outputId": "d3cad414-5eeb-4862-b101-a94532f4680d"
      },
      "source": [
        "from google.colab import drive\n",
        "drive.mount('/content/drive')"
      ],
      "execution_count": 212,
      "outputs": [
        {
          "output_type": "stream",
          "name": "stdout",
          "text": [
            "Drive already mounted at /content/drive; to attempt to forcibly remount, call drive.mount(\"/content/drive\", force_remount=True).\n"
          ]
        }
      ]
    },
    {
      "cell_type": "code",
      "metadata": {
        "id": "XGLtEQ3Prk0C"
      },
      "source": [
        "base_path = '/content/drive/My Drive/ML Challenge'\n",
        "train_x_path = base_path + '/train_x.csv'\n",
        "train_y_path = base_path + '/train_y.csv'\n",
        "test_x_path = base_path + '/test_x.csv'\n",
        "test_y_path = base_path + '/test_y.csv'"
      ],
      "execution_count": 213,
      "outputs": []
    },
    {
      "cell_type": "code",
      "metadata": {
        "id": "jLHSxQ0Prldk"
      },
      "source": [
        "train_x = pd.read_csv(train_x_path)\n",
        "train_y = pd.read_csv(train_y_path)\n",
        "test_x = pd.read_csv(test_x_path)"
      ],
      "execution_count": 214,
      "outputs": []
    },
    {
      "cell_type": "markdown",
      "metadata": {
        "id": "v2YYs-vxcw5B"
      },
      "source": [
        "# **Examining the Dataset**"
      ]
    },
    {
      "cell_type": "code",
      "metadata": {
        "colab": {
          "base_uri": "https://localhost:8080/"
        },
        "id": "W8rmTBnkIwgt",
        "outputId": "aa65e4bc-ae82-473a-8f83-76fb01e81d79"
      },
      "source": [
        "train_y.info()"
      ],
      "execution_count": 215,
      "outputs": [
        {
          "output_type": "stream",
          "name": "stdout",
          "text": [
            "<class 'pandas.core.frame.DataFrame'>\n",
            "RangeIndex: 59400 entries, 0 to 59399\n",
            "Data columns (total 2 columns):\n",
            " #   Column        Non-Null Count  Dtype \n",
            "---  ------        --------------  ----- \n",
            " 0   id            59400 non-null  int64 \n",
            " 1   status_group  59400 non-null  object\n",
            "dtypes: int64(1), object(1)\n",
            "memory usage: 928.2+ KB\n"
          ]
        }
      ]
    },
    {
      "cell_type": "code",
      "metadata": {
        "colab": {
          "base_uri": "https://localhost:8080/"
        },
        "id": "P6Z2itvSJwYw",
        "outputId": "d6897037-5833-494b-bc38-d5077d8cd146"
      },
      "source": [
        "train_y.status_group.value_counts()"
      ],
      "execution_count": 216,
      "outputs": [
        {
          "output_type": "execute_result",
          "data": {
            "text/plain": [
              "functional                 32259\n",
              "non functional             22824\n",
              "functional needs repair     4317\n",
              "Name: status_group, dtype: int64"
            ]
          },
          "metadata": {},
          "execution_count": 216
        }
      ]
    },
    {
      "cell_type": "code",
      "metadata": {
        "colab": {
          "base_uri": "https://localhost:8080/"
        },
        "id": "GFRQNZYWhjk2",
        "outputId": "8b8a2b67-e277-471f-9bf3-4d3526d4b388"
      },
      "source": [
        "train_x.installer.value_counts()"
      ],
      "execution_count": 217,
      "outputs": [
        {
          "output_type": "execute_result",
          "data": {
            "text/plain": [
              "DWE                    17402\n",
              "Government              1825\n",
              "RWE                     1206\n",
              "Commu                   1060\n",
              "DANIDA                  1050\n",
              "                       ...  \n",
              "WINAM  CONSTRUCTION        1\n",
              "Makundya                   1\n",
              "Kwamdulu estate            1\n",
              "SIMBA                      1\n",
              "Winkyens                   1\n",
              "Name: installer, Length: 2145, dtype: int64"
            ]
          },
          "metadata": {},
          "execution_count": 217
        }
      ]
    },
    {
      "cell_type": "code",
      "metadata": {
        "colab": {
          "base_uri": "https://localhost:8080/"
        },
        "id": "bgpzI8QiiS4I",
        "outputId": "37439e91-49e5-4a42-8313-4c30b09a0281"
      },
      "source": [
        "train_x.info()"
      ],
      "execution_count": 218,
      "outputs": [
        {
          "output_type": "stream",
          "name": "stdout",
          "text": [
            "<class 'pandas.core.frame.DataFrame'>\n",
            "RangeIndex: 59400 entries, 0 to 59399\n",
            "Data columns (total 40 columns):\n",
            " #   Column                 Non-Null Count  Dtype  \n",
            "---  ------                 --------------  -----  \n",
            " 0   id                     59400 non-null  int64  \n",
            " 1   amount_tsh             59400 non-null  float64\n",
            " 2   date_recorded          59400 non-null  object \n",
            " 3   funder                 55765 non-null  object \n",
            " 4   gps_height             59400 non-null  int64  \n",
            " 5   installer              55745 non-null  object \n",
            " 6   longitude              59400 non-null  float64\n",
            " 7   latitude               59400 non-null  float64\n",
            " 8   wpt_name               59400 non-null  object \n",
            " 9   num_private            59400 non-null  int64  \n",
            " 10  basin                  59400 non-null  object \n",
            " 11  subvillage             59029 non-null  object \n",
            " 12  region                 59400 non-null  object \n",
            " 13  region_code            59400 non-null  int64  \n",
            " 14  district_code          59400 non-null  int64  \n",
            " 15  lga                    59400 non-null  object \n",
            " 16  ward                   59400 non-null  object \n",
            " 17  population             59400 non-null  int64  \n",
            " 18  public_meeting         56066 non-null  object \n",
            " 19  recorded_by            59400 non-null  object \n",
            " 20  scheme_management      55523 non-null  object \n",
            " 21  scheme_name            31234 non-null  object \n",
            " 22  permit                 56344 non-null  object \n",
            " 23  construction_year      59400 non-null  int64  \n",
            " 24  extraction_type        59400 non-null  object \n",
            " 25  extraction_type_group  59400 non-null  object \n",
            " 26  extraction_type_class  59400 non-null  object \n",
            " 27  management             59400 non-null  object \n",
            " 28  management_group       59400 non-null  object \n",
            " 29  payment                59400 non-null  object \n",
            " 30  payment_type           59400 non-null  object \n",
            " 31  water_quality          59400 non-null  object \n",
            " 32  quality_group          59400 non-null  object \n",
            " 33  quantity               59400 non-null  object \n",
            " 34  quantity_group         59400 non-null  object \n",
            " 35  source                 59400 non-null  object \n",
            " 36  source_type            59400 non-null  object \n",
            " 37  source_class           59400 non-null  object \n",
            " 38  waterpoint_type        59400 non-null  object \n",
            " 39  waterpoint_type_group  59400 non-null  object \n",
            "dtypes: float64(3), int64(7), object(30)\n",
            "memory usage: 18.1+ MB\n"
          ]
        }
      ]
    },
    {
      "cell_type": "code",
      "metadata": {
        "colab": {
          "base_uri": "https://localhost:8080/",
          "height": 297
        },
        "id": "mqvu49tfNFB3",
        "outputId": "1e7d7d5a-72f4-4d4a-ced3-74499d9f3842"
      },
      "source": [
        "train_x.describe()"
      ],
      "execution_count": 219,
      "outputs": [
        {
          "output_type": "execute_result",
          "data": {
            "text/html": [
              "<div>\n",
              "<style scoped>\n",
              "    .dataframe tbody tr th:only-of-type {\n",
              "        vertical-align: middle;\n",
              "    }\n",
              "\n",
              "    .dataframe tbody tr th {\n",
              "        vertical-align: top;\n",
              "    }\n",
              "\n",
              "    .dataframe thead th {\n",
              "        text-align: right;\n",
              "    }\n",
              "</style>\n",
              "<table border=\"1\" class=\"dataframe\">\n",
              "  <thead>\n",
              "    <tr style=\"text-align: right;\">\n",
              "      <th></th>\n",
              "      <th>id</th>\n",
              "      <th>amount_tsh</th>\n",
              "      <th>gps_height</th>\n",
              "      <th>longitude</th>\n",
              "      <th>latitude</th>\n",
              "      <th>num_private</th>\n",
              "      <th>region_code</th>\n",
              "      <th>district_code</th>\n",
              "      <th>population</th>\n",
              "      <th>construction_year</th>\n",
              "    </tr>\n",
              "  </thead>\n",
              "  <tbody>\n",
              "    <tr>\n",
              "      <th>count</th>\n",
              "      <td>59400.000000</td>\n",
              "      <td>59400.000000</td>\n",
              "      <td>59400.000000</td>\n",
              "      <td>59400.000000</td>\n",
              "      <td>5.940000e+04</td>\n",
              "      <td>59400.000000</td>\n",
              "      <td>59400.000000</td>\n",
              "      <td>59400.000000</td>\n",
              "      <td>59400.000000</td>\n",
              "      <td>59400.000000</td>\n",
              "    </tr>\n",
              "    <tr>\n",
              "      <th>mean</th>\n",
              "      <td>37115.131768</td>\n",
              "      <td>317.650385</td>\n",
              "      <td>668.297239</td>\n",
              "      <td>34.077427</td>\n",
              "      <td>-5.706033e+00</td>\n",
              "      <td>0.474141</td>\n",
              "      <td>15.297003</td>\n",
              "      <td>5.629747</td>\n",
              "      <td>179.909983</td>\n",
              "      <td>1300.652475</td>\n",
              "    </tr>\n",
              "    <tr>\n",
              "      <th>std</th>\n",
              "      <td>21453.128371</td>\n",
              "      <td>2997.574558</td>\n",
              "      <td>693.116350</td>\n",
              "      <td>6.567432</td>\n",
              "      <td>2.946019e+00</td>\n",
              "      <td>12.236230</td>\n",
              "      <td>17.587406</td>\n",
              "      <td>9.633649</td>\n",
              "      <td>471.482176</td>\n",
              "      <td>951.620547</td>\n",
              "    </tr>\n",
              "    <tr>\n",
              "      <th>min</th>\n",
              "      <td>0.000000</td>\n",
              "      <td>0.000000</td>\n",
              "      <td>-90.000000</td>\n",
              "      <td>0.000000</td>\n",
              "      <td>-1.164944e+01</td>\n",
              "      <td>0.000000</td>\n",
              "      <td>1.000000</td>\n",
              "      <td>0.000000</td>\n",
              "      <td>0.000000</td>\n",
              "      <td>0.000000</td>\n",
              "    </tr>\n",
              "    <tr>\n",
              "      <th>25%</th>\n",
              "      <td>18519.750000</td>\n",
              "      <td>0.000000</td>\n",
              "      <td>0.000000</td>\n",
              "      <td>33.090347</td>\n",
              "      <td>-8.540621e+00</td>\n",
              "      <td>0.000000</td>\n",
              "      <td>5.000000</td>\n",
              "      <td>2.000000</td>\n",
              "      <td>0.000000</td>\n",
              "      <td>0.000000</td>\n",
              "    </tr>\n",
              "    <tr>\n",
              "      <th>50%</th>\n",
              "      <td>37061.500000</td>\n",
              "      <td>0.000000</td>\n",
              "      <td>369.000000</td>\n",
              "      <td>34.908743</td>\n",
              "      <td>-5.021597e+00</td>\n",
              "      <td>0.000000</td>\n",
              "      <td>12.000000</td>\n",
              "      <td>3.000000</td>\n",
              "      <td>25.000000</td>\n",
              "      <td>1986.000000</td>\n",
              "    </tr>\n",
              "    <tr>\n",
              "      <th>75%</th>\n",
              "      <td>55656.500000</td>\n",
              "      <td>20.000000</td>\n",
              "      <td>1319.250000</td>\n",
              "      <td>37.178387</td>\n",
              "      <td>-3.326156e+00</td>\n",
              "      <td>0.000000</td>\n",
              "      <td>17.000000</td>\n",
              "      <td>5.000000</td>\n",
              "      <td>215.000000</td>\n",
              "      <td>2004.000000</td>\n",
              "    </tr>\n",
              "    <tr>\n",
              "      <th>max</th>\n",
              "      <td>74247.000000</td>\n",
              "      <td>350000.000000</td>\n",
              "      <td>2770.000000</td>\n",
              "      <td>40.345193</td>\n",
              "      <td>-2.000000e-08</td>\n",
              "      <td>1776.000000</td>\n",
              "      <td>99.000000</td>\n",
              "      <td>80.000000</td>\n",
              "      <td>30500.000000</td>\n",
              "      <td>2013.000000</td>\n",
              "    </tr>\n",
              "  </tbody>\n",
              "</table>\n",
              "</div>"
            ],
            "text/plain": [
              "                 id     amount_tsh  ...    population  construction_year\n",
              "count  59400.000000   59400.000000  ...  59400.000000       59400.000000\n",
              "mean   37115.131768     317.650385  ...    179.909983        1300.652475\n",
              "std    21453.128371    2997.574558  ...    471.482176         951.620547\n",
              "min        0.000000       0.000000  ...      0.000000           0.000000\n",
              "25%    18519.750000       0.000000  ...      0.000000           0.000000\n",
              "50%    37061.500000       0.000000  ...     25.000000        1986.000000\n",
              "75%    55656.500000      20.000000  ...    215.000000        2004.000000\n",
              "max    74247.000000  350000.000000  ...  30500.000000        2013.000000\n",
              "\n",
              "[8 rows x 10 columns]"
            ]
          },
          "metadata": {},
          "execution_count": 219
        }
      ]
    },
    {
      "cell_type": "markdown",
      "metadata": {
        "id": "IpMbIFfUKEWr"
      },
      "source": [
        "# **Preparing the y Variable**"
      ]
    },
    {
      "cell_type": "markdown",
      "metadata": {
        "id": "RNk-2GrrK5bT"
      },
      "source": [
        "*Label Encoding the y variable*"
      ]
    },
    {
      "cell_type": "code",
      "metadata": {
        "id": "d3zS7JiNKBhB"
      },
      "source": [
        "train_y['status_group'].replace({'functional': 2, 'functional needs repair':1, 'non functional': 0}, inplace=True)"
      ],
      "execution_count": 220,
      "outputs": []
    },
    {
      "cell_type": "code",
      "metadata": {
        "colab": {
          "base_uri": "https://localhost:8080/"
        },
        "id": "lf12V3YiKwxz",
        "outputId": "43f5d5e3-e573-4a05-bf90-ee525a6e5810"
      },
      "source": [
        "train_y.status_group.unique()"
      ],
      "execution_count": 221,
      "outputs": [
        {
          "output_type": "execute_result",
          "data": {
            "text/plain": [
              "array([2, 0, 1])"
            ]
          },
          "metadata": {},
          "execution_count": 221
        }
      ]
    },
    {
      "cell_type": "markdown",
      "metadata": {
        "id": "LI-ed9cWeWbY"
      },
      "source": [
        "*Removing the 'id' Column*"
      ]
    },
    {
      "cell_type": "code",
      "metadata": {
        "id": "fU2-hbBHLUBO"
      },
      "source": [
        "train_y = train_y.drop(['id'], axis=1)"
      ],
      "execution_count": 222,
      "outputs": []
    },
    {
      "cell_type": "markdown",
      "metadata": {
        "id": "9kCcZe7nNY0E"
      },
      "source": [
        "# **Preparing the x Variable**"
      ]
    },
    {
      "cell_type": "code",
      "metadata": {
        "id": "Gq7PUXqlstOf"
      },
      "source": [
        "def drop_columns(x_train, x_test):\n",
        "  drop_cols = ['id', 'extraction_type_group', 'extraction_type_class', 'num_private', 'region', 'recorded_by', 'payment', 'quality_group', 'quantity_group', 'source_type', 'source_class', 'waterpoint_type_group']\n",
        "  x_train = x_train.drop(drop_cols, axis=1)\n",
        "  x_test = x_test.drop(drop_cols, axis=1)\n",
        "\n",
        "  return x_train, x_test"
      ],
      "execution_count": 223,
      "outputs": []
    },
    {
      "cell_type": "markdown",
      "metadata": {
        "id": "9DpNifFyehLF"
      },
      "source": [
        "***Function to Process Numeric Data***"
      ]
    },
    {
      "cell_type": "code",
      "metadata": {
        "id": "3oJzEaeF5GmP"
      },
      "source": [
        "def process_numerical(x_train, x_test):\n",
        "  x_train['amount_tsh'] = (x_train['amount_tsh']-x_train['amount_tsh'].min())/(x_train['amount_tsh'].max()-x_train['amount_tsh'].min())\n",
        "  x_test['amount_tsh'] = (x_test['amount_tsh']-x_test['amount_tsh'].min())/(x_test['amount_tsh'].max()-x_test['amount_tsh'].min())\n",
        "\n",
        "  x_train['date_recorded'] = pd.to_datetime(x_train['date_recorded']).dt.year\n",
        "  x_test['date_recorded'] = pd.to_datetime(x_test['date_recorded']).dt.year\n",
        "\n",
        "  x_train['public_meeting'] = x_train['public_meeting'].astype('bool')\n",
        "  x_test['public_meeting'] = x_test['public_meeting'].astype('bool')\n",
        "\n",
        "  x_train['permit'] = x_train['permit'].astype('bool')\n",
        "  x_test['permit'] = x_test['permit'].astype('bool')\n",
        "\n",
        "  x_train['location'] = x_train['longitude']*x_train['latitude']\n",
        "  x_test['location'] = x_test['longitude']*x_test['latitude']\n",
        "\n",
        "  return x_train, x_test"
      ],
      "execution_count": 224,
      "outputs": []
    },
    {
      "cell_type": "markdown",
      "metadata": {
        "id": "4sI6WiOkgeX5"
      },
      "source": [
        "***Function to Target Encode Columns***"
      ]
    },
    {
      "cell_type": "code",
      "metadata": {
        "id": "x7XQ-wx01V2k"
      },
      "source": [
        "def process_target(x_train, y_train, x_test):\n",
        "\n",
        "  target_columns = ['wpt_name', 'subvillage', 'lga', 'ward', 'scheme_name']\n",
        "  \n",
        "  te = TargetEncoder()\n",
        "  x_train[target_columns] = te.fit_transform(x_train[target_columns], y_train)\n",
        "  x_test[target_columns] = te.transform(x_test[target_columns])\n",
        "\n",
        "  return x_train, y_train, x_test"
      ],
      "execution_count": 225,
      "outputs": []
    },
    {
      "cell_type": "markdown",
      "metadata": {
        "id": "u305CGBogkar"
      },
      "source": [
        "***Function to One-Hot Encode Columns***"
      ]
    },
    {
      "cell_type": "code",
      "metadata": {
        "id": "iH-00pOZD2l-"
      },
      "source": [
        "def process_onehot(x):\n",
        "  onehot_columns = ['basin', 'extraction_type', 'management_group', 'payment_type', 'waterpoint_type', 'funder', 'quantity', 'source', 'scheme_management', 'water_quality', 'management', 'installer']\n",
        "  \n",
        "  threshold = x.funder.value_counts()\n",
        "  threshold_values = threshold[:5].index\n",
        "  x['funder'] = x.funder.where(x.funder.isin(threshold_values), 'Other') \n",
        "\n",
        "  threshold = x.scheme_management.value_counts()\n",
        "  threshold_values = threshold[:5].index\n",
        "  x['scheme_management'] = x.scheme_management.where(x.scheme_management.isin(threshold_values), 'Other') \n",
        "\n",
        "  threshold = x.management.value_counts()\n",
        "  threshold_values = threshold[:6].index\n",
        "  x['management'] = x.management.where(x.management.isin(threshold_values), 'Other') \n",
        "\n",
        "  threshold = x.installer.value_counts()\n",
        "  threshold_values = threshold[:6].index\n",
        "  x['installer'] = x.installer.where(x.installer.isin(threshold_values), 'Other') \n",
        "\n",
        "  for column in onehot_columns:\n",
        "    one_hot = pd.get_dummies(x[column], prefix=column)\n",
        "    x = pd.concat([x, one_hot], axis=1)\n",
        "  \n",
        "  x = x.drop(onehot_columns, axis = 1)\n",
        "  return x"
      ],
      "execution_count": 226,
      "outputs": []
    },
    {
      "cell_type": "markdown",
      "metadata": {
        "id": "XVcHl6vi5bO2"
      },
      "source": [
        "***Function to Fill Missing Values***"
      ]
    },
    {
      "cell_type": "code",
      "metadata": {
        "id": "wohJJDn65Ztb"
      },
      "source": [
        "from numpy import nan\n",
        "from pandas import read_csv\n",
        "from sklearn.pipeline import Pipeline\n",
        "from sklearn.impute import SimpleImputer\n",
        "from sklearn.discriminant_analysis import LinearDiscriminantAnalysis\n",
        "from sklearn.model_selection import KFold\n",
        "from sklearn.model_selection import cross_val_score\n",
        "\n",
        "def fill_missing(x_train, y_train, x_test):\n",
        "  imputer = SimpleImputer(missing_values=nan, strategy='median')\n",
        "  imputer.fit(x_train, y_train)\n",
        "  x = pd.DataFrame(imputer.fit_transform(x_train))\n",
        "  x.columns = x_train.columns\n",
        "  x.index = x_train.index\n",
        "\n",
        "  xt = pd.DataFrame(imputer.transform(x_test))\n",
        "  xt.columns = x_test.columns\n",
        "  xt.index = x_test.index\n",
        "\n",
        "  return x, xt"
      ],
      "execution_count": 227,
      "outputs": []
    },
    {
      "cell_type": "markdown",
      "metadata": {
        "id": "fwJC3ibfnaA_"
      },
      "source": [
        "***Processing the x Variable***"
      ]
    },
    {
      "cell_type": "code",
      "metadata": {
        "colab": {
          "base_uri": "https://localhost:8080/"
        },
        "id": "NBXbxYFtfBtP",
        "outputId": "538df492-5a0b-4b16-9483-02f8e79f9e59"
      },
      "source": [
        "train_x.amount_tsh"
      ],
      "execution_count": 228,
      "outputs": [
        {
          "output_type": "execute_result",
          "data": {
            "text/plain": [
              "0        6000.0\n",
              "1           0.0\n",
              "2          25.0\n",
              "3           0.0\n",
              "4           0.0\n",
              "          ...  \n",
              "59395      10.0\n",
              "59396    4700.0\n",
              "59397       0.0\n",
              "59398       0.0\n",
              "59399       0.0\n",
              "Name: amount_tsh, Length: 59400, dtype: float64"
            ]
          },
          "metadata": {},
          "execution_count": 228
        }
      ]
    },
    {
      "cell_type": "code",
      "metadata": {
        "id": "3biF_8PaxKJf"
      },
      "source": [
        "x1, xt1 = drop_columns(train_x, test_x)"
      ],
      "execution_count": 229,
      "outputs": []
    },
    {
      "cell_type": "code",
      "metadata": {
        "id": "DeyHtunoQ1J2"
      },
      "source": [
        "x2, y_train, xt2 = process_target(x1, train_y, xt1)"
      ],
      "execution_count": 230,
      "outputs": []
    },
    {
      "cell_type": "code",
      "metadata": {
        "id": "d5K-VivCHTb8"
      },
      "source": [
        "train_size, test_size = train_x.shape[0], test_x.shape[0]\n",
        "x = pd.concat([x2, xt2])"
      ],
      "execution_count": 231,
      "outputs": []
    },
    {
      "cell_type": "code",
      "metadata": {
        "id": "cqFrC5OPEFhr"
      },
      "source": [
        "x = process_onehot(x)"
      ],
      "execution_count": 232,
      "outputs": []
    },
    {
      "cell_type": "code",
      "metadata": {
        "id": "q8xpl-BqIFyg"
      },
      "source": [
        "x3, xt3 = x.iloc[:train_size,:], x.iloc[train_size:,:]"
      ],
      "execution_count": 233,
      "outputs": []
    },
    {
      "cell_type": "code",
      "metadata": {
        "id": "Vfk9wnDFDXpB",
        "colab": {
          "base_uri": "https://localhost:8080/"
        },
        "outputId": "141deb2e-787a-40a0-d155-1c85d08eaced"
      },
      "source": [
        "x4, xt4 = process_numerical(x3, xt3)"
      ],
      "execution_count": 234,
      "outputs": [
        {
          "output_type": "stream",
          "name": "stderr",
          "text": [
            "/usr/local/lib/python3.7/dist-packages/ipykernel_launcher.py:2: SettingWithCopyWarning: \n",
            "A value is trying to be set on a copy of a slice from a DataFrame.\n",
            "Try using .loc[row_indexer,col_indexer] = value instead\n",
            "\n",
            "See the caveats in the documentation: https://pandas.pydata.org/pandas-docs/stable/user_guide/indexing.html#returning-a-view-versus-a-copy\n",
            "  \n",
            "/usr/local/lib/python3.7/dist-packages/ipykernel_launcher.py:3: SettingWithCopyWarning: \n",
            "A value is trying to be set on a copy of a slice from a DataFrame.\n",
            "Try using .loc[row_indexer,col_indexer] = value instead\n",
            "\n",
            "See the caveats in the documentation: https://pandas.pydata.org/pandas-docs/stable/user_guide/indexing.html#returning-a-view-versus-a-copy\n",
            "  This is separate from the ipykernel package so we can avoid doing imports until\n",
            "/usr/local/lib/python3.7/dist-packages/ipykernel_launcher.py:5: SettingWithCopyWarning: \n",
            "A value is trying to be set on a copy of a slice from a DataFrame.\n",
            "Try using .loc[row_indexer,col_indexer] = value instead\n",
            "\n",
            "See the caveats in the documentation: https://pandas.pydata.org/pandas-docs/stable/user_guide/indexing.html#returning-a-view-versus-a-copy\n",
            "  \"\"\"\n",
            "/usr/local/lib/python3.7/dist-packages/ipykernel_launcher.py:6: SettingWithCopyWarning: \n",
            "A value is trying to be set on a copy of a slice from a DataFrame.\n",
            "Try using .loc[row_indexer,col_indexer] = value instead\n",
            "\n",
            "See the caveats in the documentation: https://pandas.pydata.org/pandas-docs/stable/user_guide/indexing.html#returning-a-view-versus-a-copy\n",
            "  \n",
            "/usr/local/lib/python3.7/dist-packages/ipykernel_launcher.py:8: SettingWithCopyWarning: \n",
            "A value is trying to be set on a copy of a slice from a DataFrame.\n",
            "Try using .loc[row_indexer,col_indexer] = value instead\n",
            "\n",
            "See the caveats in the documentation: https://pandas.pydata.org/pandas-docs/stable/user_guide/indexing.html#returning-a-view-versus-a-copy\n",
            "  \n",
            "/usr/local/lib/python3.7/dist-packages/ipykernel_launcher.py:9: SettingWithCopyWarning: \n",
            "A value is trying to be set on a copy of a slice from a DataFrame.\n",
            "Try using .loc[row_indexer,col_indexer] = value instead\n",
            "\n",
            "See the caveats in the documentation: https://pandas.pydata.org/pandas-docs/stable/user_guide/indexing.html#returning-a-view-versus-a-copy\n",
            "  if __name__ == '__main__':\n",
            "/usr/local/lib/python3.7/dist-packages/ipykernel_launcher.py:11: SettingWithCopyWarning: \n",
            "A value is trying to be set on a copy of a slice from a DataFrame.\n",
            "Try using .loc[row_indexer,col_indexer] = value instead\n",
            "\n",
            "See the caveats in the documentation: https://pandas.pydata.org/pandas-docs/stable/user_guide/indexing.html#returning-a-view-versus-a-copy\n",
            "  # This is added back by InteractiveShellApp.init_path()\n",
            "/usr/local/lib/python3.7/dist-packages/ipykernel_launcher.py:12: SettingWithCopyWarning: \n",
            "A value is trying to be set on a copy of a slice from a DataFrame.\n",
            "Try using .loc[row_indexer,col_indexer] = value instead\n",
            "\n",
            "See the caveats in the documentation: https://pandas.pydata.org/pandas-docs/stable/user_guide/indexing.html#returning-a-view-versus-a-copy\n",
            "  if sys.path[0] == '':\n",
            "/usr/local/lib/python3.7/dist-packages/ipykernel_launcher.py:14: SettingWithCopyWarning: \n",
            "A value is trying to be set on a copy of a slice from a DataFrame.\n",
            "Try using .loc[row_indexer,col_indexer] = value instead\n",
            "\n",
            "See the caveats in the documentation: https://pandas.pydata.org/pandas-docs/stable/user_guide/indexing.html#returning-a-view-versus-a-copy\n",
            "  \n",
            "/usr/local/lib/python3.7/dist-packages/ipykernel_launcher.py:15: SettingWithCopyWarning: \n",
            "A value is trying to be set on a copy of a slice from a DataFrame.\n",
            "Try using .loc[row_indexer,col_indexer] = value instead\n",
            "\n",
            "See the caveats in the documentation: https://pandas.pydata.org/pandas-docs/stable/user_guide/indexing.html#returning-a-view-versus-a-copy\n",
            "  from ipykernel import kernelapp as app\n"
          ]
        }
      ]
    },
    {
      "cell_type": "code",
      "metadata": {
        "id": "FnIOMLHAXPe0"
      },
      "source": [
        "x5, xt5 = fill_missing(x4, y_train, xt4)"
      ],
      "execution_count": 235,
      "outputs": []
    },
    {
      "cell_type": "code",
      "metadata": {
        "colab": {
          "base_uri": "https://localhost:8080/"
        },
        "id": "8fJGvGpkFoYb",
        "outputId": "c8a27453-9bc1-4765-ae5e-c871b48b2d12"
      },
      "source": [
        "x5.info()"
      ],
      "execution_count": 236,
      "outputs": [
        {
          "output_type": "stream",
          "name": "stdout",
          "text": [
            "<class 'pandas.core.frame.DataFrame'>\n",
            "Int64Index: 59400 entries, 0 to 59399\n",
            "Columns: 112 entries, amount_tsh to location\n",
            "dtypes: float64(112)\n",
            "memory usage: 51.2 MB\n"
          ]
        }
      ]
    },
    {
      "cell_type": "code",
      "metadata": {
        "id": "-QURybwzzXZu",
        "colab": {
          "base_uri": "https://localhost:8080/"
        },
        "outputId": "bf60f77f-d74d-4d02-8bbf-bdf009c5f649"
      },
      "source": [
        "duplicated_columns_list = []\n",
        "list_of_all_columns = list(x5.columns)\n",
        "for column in list_of_all_columns:\n",
        "    if list_of_all_columns.count(column) > 1 and not column in duplicated_columns_list:\n",
        "        duplicated_columns_list.append(column)\n",
        "duplicated_columns_list"
      ],
      "execution_count": 237,
      "outputs": [
        {
          "output_type": "execute_result",
          "data": {
            "text/plain": [
              "[]"
            ]
          },
          "metadata": {},
          "execution_count": 237
        }
      ]
    },
    {
      "cell_type": "code",
      "metadata": {
        "id": "xuDTvmXktmFE"
      },
      "source": [
        "x_, x_t, y_, y_t = train_test_split(x5, train_y, test_size=0.33, random_state=42)"
      ],
      "execution_count": 238,
      "outputs": []
    },
    {
      "cell_type": "markdown",
      "metadata": {
        "id": "6EMN31GMvdC4"
      },
      "source": [
        "# **Testing the Performance of Machine Learning Models**"
      ]
    },
    {
      "cell_type": "markdown",
      "metadata": {
        "id": "KDWSxTgYvlLK"
      },
      "source": [
        "***Training XGBoost Model***"
      ]
    },
    {
      "cell_type": "code",
      "metadata": {
        "id": "38I5iziTI79S",
        "colab": {
          "base_uri": "https://localhost:8080/"
        },
        "outputId": "e72deb97-83a0-42b7-952b-799251b5c7e4"
      },
      "source": [
        "import matplotlib.pyplot as plt\n",
        "from xgboost import plot_importance, XGBClassifier\n",
        "from sklearn.metrics import f1_score\n",
        "plt.rcParams[\"figure.figsize\"] = (20,10)\n",
        "\n",
        "xg_reg = xgb.XGBClassifier(base_score=0.5, booster='dart', colsample_bylevel=1,\n",
        "             colsample_bynode=1, colsample_bytree=0.4, gamma=0.0,\n",
        "             importance_type='gain', learning_rate=0.05, max_delta_step=0,\n",
        "             max_depth=3, min_child_weight=7, missing=None, n_estimators=100,\n",
        "             n_jobs=1,num_class=3, nthread=None, objective='multi:softmax',\n",
        "             random_state=0, reg_alpha=0, reg_lambda=1, scale_pos_weight=1,\n",
        "             seed=None, silent=None, subsample=1, verbosity=1)\n",
        "xg_reg.fit(x5, y_train)\n",
        "\n",
        "predictions_xg = xg_reg.predict(x_t)\n",
        "f1_score(y_t, predictions_xg, average=None)"
      ],
      "execution_count": 239,
      "outputs": [
        {
          "output_type": "stream",
          "name": "stderr",
          "text": [
            "/usr/local/lib/python3.7/dist-packages/sklearn/preprocessing/_label.py:235: DataConversionWarning: A column-vector y was passed when a 1d array was expected. Please change the shape of y to (n_samples, ), for example using ravel().\n",
            "  y = column_or_1d(y, warn=True)\n",
            "/usr/local/lib/python3.7/dist-packages/sklearn/preprocessing/_label.py:268: DataConversionWarning: A column-vector y was passed when a 1d array was expected. Please change the shape of y to (n_samples, ), for example using ravel().\n",
            "  y = column_or_1d(y, warn=True)\n"
          ]
        },
        {
          "output_type": "execute_result",
          "data": {
            "text/plain": [
              "array([0.92490119, 0.53103761, 0.93096806])"
            ]
          },
          "metadata": {},
          "execution_count": 239
        }
      ]
    },
    {
      "cell_type": "markdown",
      "metadata": {
        "id": "s9imbnyPv_Dr"
      },
      "source": [
        "***Training Logistic Regression Model***"
      ]
    },
    {
      "cell_type": "code",
      "metadata": {
        "colab": {
          "base_uri": "https://localhost:8080/"
        },
        "id": "8dwIgFH4v_Ds",
        "outputId": "3cc502b7-af3d-4e74-e497-58c24316216c"
      },
      "source": [
        "from sklearn.linear_model import LogisticRegression\n",
        "from sklearn.metrics import f1_score\n",
        "\n",
        "lr = LogisticRegression(multi_class='multinomial')\n",
        "lr.fit(x_, y_)\n",
        "\n",
        "predictions_lr = lr.predict(x_t)\n",
        "f1_score(y_t, predictions_lr, average=None)"
      ],
      "execution_count": 240,
      "outputs": [
        {
          "output_type": "stream",
          "name": "stderr",
          "text": [
            "/usr/local/lib/python3.7/dist-packages/sklearn/utils/validation.py:760: DataConversionWarning: A column-vector y was passed when a 1d array was expected. Please change the shape of y to (n_samples, ), for example using ravel().\n",
            "  y = column_or_1d(y, warn=True)\n",
            "/usr/local/lib/python3.7/dist-packages/sklearn/linear_model/_logistic.py:940: ConvergenceWarning: lbfgs failed to converge (status=1):\n",
            "STOP: TOTAL NO. of ITERATIONS REACHED LIMIT.\n",
            "\n",
            "Increase the number of iterations (max_iter) or scale the data as shown in:\n",
            "    https://scikit-learn.org/stable/modules/preprocessing.html\n",
            "Please also refer to the documentation for alternative solver options:\n",
            "    https://scikit-learn.org/stable/modules/linear_model.html#logistic-regression\n",
            "  extra_warning_msg=_LOGISTIC_SOLVER_CONVERGENCE_MSG)\n"
          ]
        },
        {
          "output_type": "execute_result",
          "data": {
            "text/plain": [
              "array([0.26765799, 0.        , 0.72115116])"
            ]
          },
          "metadata": {},
          "execution_count": 240
        }
      ]
    },
    {
      "cell_type": "markdown",
      "metadata": {
        "id": "potORfAfy1Tr"
      },
      "source": [
        "***Training Random Forest Classifier Model***"
      ]
    },
    {
      "cell_type": "code",
      "metadata": {
        "id": "8kz31oxZy1T8",
        "colab": {
          "base_uri": "https://localhost:8080/"
        },
        "outputId": "339e6ab8-11ee-46fe-90cf-2ba31b37db15"
      },
      "source": [
        "from sklearn.ensemble import RandomForestClassifier\n",
        "from sklearn.metrics import f1_score\n",
        "\n",
        "rfc = RandomForestClassifier(n_estimators=1000, max_depth=None, min_samples_split=6, min_samples_leaf=2, \n",
        "                               max_features='auto', min_impurity_decrease=0.1, min_impurity_split=None, \n",
        "                               bootstrap=True, warm_start=True)\n",
        "rfc.fit(x_, y_)\n",
        "\n",
        "predictions_rfc = rfc.predict(x_t)\n",
        "f1_score(y_t, predictions_rfc, average=None)"
      ],
      "execution_count": 241,
      "outputs": [
        {
          "output_type": "stream",
          "name": "stderr",
          "text": [
            "/usr/local/lib/python3.7/dist-packages/ipykernel_launcher.py:7: DataConversionWarning: A column-vector y was passed when a 1d array was expected. Please change the shape of y to (n_samples,), for example using ravel().\n",
            "  import sys\n"
          ]
        },
        {
          "output_type": "execute_result",
          "data": {
            "text/plain": [
              "array([0.        , 0.        , 0.70703473])"
            ]
          },
          "metadata": {},
          "execution_count": 241
        }
      ]
    },
    {
      "cell_type": "markdown",
      "metadata": {
        "id": "KBD1BJ2ozcfq"
      },
      "source": [
        "***Training k Nearest Neighbours Model***"
      ]
    },
    {
      "cell_type": "code",
      "metadata": {
        "colab": {
          "base_uri": "https://localhost:8080/"
        },
        "id": "ZF6DZ5Ujzcfr",
        "outputId": "3e2827bb-cfc2-4554-e16f-9c6856859398"
      },
      "source": [
        "from sklearn.neighbors import KNeighborsClassifier\n",
        "from sklearn.metrics import f1_score\n",
        "\n",
        "knn = KNeighborsClassifier(n_neighbors=5)\n",
        "knn.fit(x_, y_)\n",
        "\n",
        "predictions_knn = knn.predict(x_t)\n",
        "f1_score(y_t, predictions_knn, average=None)"
      ],
      "execution_count": 242,
      "outputs": [
        {
          "output_type": "stream",
          "name": "stderr",
          "text": [
            "/usr/local/lib/python3.7/dist-packages/ipykernel_launcher.py:5: DataConversionWarning: A column-vector y was passed when a 1d array was expected. Please change the shape of y to (n_samples, ), for example using ravel().\n",
            "  \"\"\"\n"
          ]
        },
        {
          "output_type": "execute_result",
          "data": {
            "text/plain": [
              "array([0.6921928 , 0.34808511, 0.77490508])"
            ]
          },
          "metadata": {},
          "execution_count": 242
        }
      ]
    },
    {
      "cell_type": "markdown",
      "metadata": {
        "id": "Ris6cdyf1zQL"
      },
      "source": [
        "***Training Naive Bayes Model***"
      ]
    },
    {
      "cell_type": "code",
      "metadata": {
        "id": "UT1gzoUl1zQN",
        "colab": {
          "base_uri": "https://localhost:8080/"
        },
        "outputId": "3e68fad3-913a-4077-b537-9c1856f5c0bb"
      },
      "source": [
        "from sklearn.naive_bayes import CategoricalNB\n",
        "from sklearn.metrics import f1_score\n",
        "from sklearn.preprocessing import MinMaxScaler\n",
        "\n",
        "scaler_m = MinMaxScaler()\n",
        "scaler_m.fit(x_)\n",
        "x_pos = scaler_m.transform(x_)\n",
        "xt_pos = scaler_m.transform(x_t)\n",
        "\n",
        "nb = CategoricalNB()\n",
        "nb.fit(x_pos, y_)\n",
        "\n",
        "predictions_nb = nb.predict(xt_pos)\n",
        "f1_score(y_t, predictions_nb, average=None)"
      ],
      "execution_count": 243,
      "outputs": [
        {
          "output_type": "stream",
          "name": "stderr",
          "text": [
            "/usr/local/lib/python3.7/dist-packages/sklearn/utils/validation.py:760: DataConversionWarning: A column-vector y was passed when a 1d array was expected. Please change the shape of y to (n_samples, ), for example using ravel().\n",
            "  y = column_or_1d(y, warn=True)\n"
          ]
        },
        {
          "output_type": "execute_result",
          "data": {
            "text/plain": [
              "array([0.79681008, 0.37880275, 0.87378092])"
            ]
          },
          "metadata": {},
          "execution_count": 243
        }
      ]
    },
    {
      "cell_type": "markdown",
      "metadata": {
        "id": "9QUcIlFF5UvO"
      },
      "source": [
        "***Training Neural Network Model***"
      ]
    },
    {
      "cell_type": "code",
      "metadata": {
        "id": "pedD5GhlDC-y",
        "cellView": "both"
      },
      "source": [
        "import tensorflow as tf\n",
        "\n",
        "def plot_curve(epochs, hist, list_of_metrics):\n",
        "  plt.figure()\n",
        "  plt.xlabel(\"Epoch\")\n",
        "  plt.ylabel(\"Value\")\n",
        "  for m in list_of_metrics:\n",
        "    x = hist[m]\n",
        "    plt.plot(epochs[1:], x[1:], label=m)\n",
        "  plt.legend()\n",
        "\n",
        "def create_model(learning_rate):\n",
        "  model = tf.keras.models.Sequential()\n",
        "  model.add(tf.keras.layers.Dense(units=1024, activation='relu'))\n",
        "  model.add(tf.keras.layers.Dense(units=256, activation='relu'))\n",
        "  model.add(tf.keras.layers.Dense(units=64, activation='relu'))\n",
        "  model.add(tf.keras.layers.Dropout(rate=0.5))\n",
        "  model.add(tf.keras.layers.Dense(units=3, activation='softmax'))      \n",
        "  model.compile(optimizer=tf.keras.optimizers.Adam(learning_rate=learning_rate),\n",
        "                loss=\"categorical_crossentropy\",\n",
        "                 metrics=[\"accuracy\",\n",
        "                       tf.keras.metrics.Precision(),\n",
        "                        tf.keras.metrics.Recall()])\n",
        "  return model    \n",
        "\n",
        "\n",
        "def train_model(model, train_features, train_label, epochs,\n",
        "                batch_size=None, validation_split=0.1):\n",
        "  \n",
        "  history = model.fit(x=train_features, y=train_label, batch_size=batch_size,\n",
        "                      epochs=epochs, shuffle=True, \n",
        "                      validation_split=validation_split)\n",
        "  epochs = history.epoch\n",
        "  hist = pd.DataFrame(history.history)\n",
        "  return epochs, hist   "
      ],
      "execution_count": 245,
      "outputs": []
    },
    {
      "cell_type": "code",
      "metadata": {
        "colab": {
          "base_uri": "https://localhost:8080/",
          "height": 1000
        },
        "id": "s7lkYWUG5SvG",
        "outputId": "1e700c12-b8d0-42b7-e354-648129ec1c97"
      },
      "source": [
        "from sklearn.preprocessing import StandardScaler\n",
        "\n",
        "scaler_s = StandardScaler()\n",
        "scaler_s.fit(x_)\n",
        "x_std = scaler_s.transform(x_)\n",
        "xt_std = scaler_s.transform(x_t)\n",
        "\n",
        "y_cat = pd.get_dummies(y_['status_group'])\n",
        "yt_cat = pd.get_dummies(y_t['status_group'])\n",
        "\n",
        "x_std = np.asarray(x_std).astype('float32')\n",
        "model = create_model(learning_rate=0.01)\n",
        "epochs, hist = train_model(model, x_std, y_cat, epochs=100, batch_size=5000, validation_split=0.1)\n",
        "list_of_metrics_to_plot = ['accuracy']\n",
        "plot_curve(epochs, hist, list_of_metrics_to_plot)\n",
        "print(\"\\n Evaluate the new model against the test set:\")\n",
        "model.evaluate(x=xt_std, y=yt_cat, batch_size=5000)"
      ],
      "execution_count": 247,
      "outputs": [
        {
          "output_type": "stream",
          "name": "stdout",
          "text": [
            "Epoch 1/100\n",
            "8/8 [==============================] - 3s 231ms/step - loss: 2.0343 - accuracy: 0.5427 - precision_14: 0.5773 - recall_14: 0.4906 - val_loss: 0.5222 - val_accuracy: 0.8065 - val_precision_14: 0.8619 - val_recall_14: 0.7573\n",
            "Epoch 2/100\n",
            "8/8 [==============================] - 1s 183ms/step - loss: 0.5168 - accuracy: 0.8359 - precision_14: 0.8970 - recall_14: 0.7329 - val_loss: 0.3709 - val_accuracy: 0.8704 - val_precision_14: 0.9059 - val_recall_14: 0.8367\n",
            "Epoch 3/100\n",
            "8/8 [==============================] - 1s 181ms/step - loss: 0.3801 - accuracy: 0.8672 - precision_14: 0.9295 - recall_14: 0.8000 - val_loss: 0.3050 - val_accuracy: 0.8812 - val_precision_14: 0.9353 - val_recall_14: 0.8430\n",
            "Epoch 4/100\n",
            "8/8 [==============================] - 1s 182ms/step - loss: 0.3251 - accuracy: 0.8757 - precision_14: 0.9429 - recall_14: 0.8171 - val_loss: 0.2865 - val_accuracy: 0.8829 - val_precision_14: 0.9444 - val_recall_14: 0.8359\n",
            "Epoch 5/100\n",
            "8/8 [==============================] - 1s 185ms/step - loss: 0.2972 - accuracy: 0.8800 - precision_14: 0.9487 - recall_14: 0.8268 - val_loss: 0.2721 - val_accuracy: 0.8902 - val_precision_14: 0.9471 - val_recall_14: 0.8495\n",
            "Epoch 6/100\n",
            "8/8 [==============================] - 1s 183ms/step - loss: 0.2819 - accuracy: 0.8832 - precision_14: 0.9491 - recall_14: 0.8363 - val_loss: 0.2666 - val_accuracy: 0.8910 - val_precision_14: 0.9491 - val_recall_14: 0.8487\n",
            "Epoch 7/100\n",
            "8/8 [==============================] - 1s 183ms/step - loss: 0.2743 - accuracy: 0.8842 - precision_14: 0.9488 - recall_14: 0.8361 - val_loss: 0.2691 - val_accuracy: 0.8917 - val_precision_14: 0.9504 - val_recall_14: 0.8475\n",
            "Epoch 8/100\n",
            "8/8 [==============================] - 1s 182ms/step - loss: 0.2686 - accuracy: 0.8841 - precision_14: 0.9529 - recall_14: 0.8368 - val_loss: 0.2665 - val_accuracy: 0.8902 - val_precision_14: 0.9478 - val_recall_14: 0.8530\n",
            "Epoch 9/100\n",
            "8/8 [==============================] - 1s 184ms/step - loss: 0.2634 - accuracy: 0.8851 - precision_14: 0.9521 - recall_14: 0.8372 - val_loss: 0.2659 - val_accuracy: 0.9020 - val_precision_14: 0.9523 - val_recall_14: 0.8432\n",
            "Epoch 10/100\n",
            "8/8 [==============================] - 1s 183ms/step - loss: 0.2614 - accuracy: 0.8942 - precision_14: 0.9541 - recall_14: 0.8375 - val_loss: 0.2617 - val_accuracy: 0.8980 - val_precision_14: 0.9485 - val_recall_14: 0.8508\n",
            "Epoch 11/100\n",
            "8/8 [==============================] - 1s 183ms/step - loss: 0.2562 - accuracy: 0.8980 - precision_14: 0.9516 - recall_14: 0.8439 - val_loss: 0.2611 - val_accuracy: 0.9015 - val_precision_14: 0.9490 - val_recall_14: 0.8470\n",
            "Epoch 12/100\n",
            "8/8 [==============================] - 1s 183ms/step - loss: 0.2509 - accuracy: 0.8985 - precision_14: 0.9495 - recall_14: 0.8449 - val_loss: 0.2597 - val_accuracy: 0.9025 - val_precision_14: 0.9487 - val_recall_14: 0.8500\n",
            "Epoch 13/100\n",
            "8/8 [==============================] - 1s 183ms/step - loss: 0.2495 - accuracy: 0.9011 - precision_14: 0.9535 - recall_14: 0.8442 - val_loss: 0.2628 - val_accuracy: 0.9068 - val_precision_14: 0.9530 - val_recall_14: 0.8462\n",
            "Epoch 14/100\n",
            "8/8 [==============================] - 1s 183ms/step - loss: 0.2435 - accuracy: 0.9017 - precision_14: 0.9539 - recall_14: 0.8449 - val_loss: 0.2654 - val_accuracy: 0.9033 - val_precision_14: 0.9486 - val_recall_14: 0.8492\n",
            "Epoch 15/100\n",
            "8/8 [==============================] - 1s 181ms/step - loss: 0.2414 - accuracy: 0.9037 - precision_14: 0.9552 - recall_14: 0.8445 - val_loss: 0.2745 - val_accuracy: 0.8980 - val_precision_14: 0.9460 - val_recall_14: 0.8447\n",
            "Epoch 16/100\n",
            "8/8 [==============================] - 1s 185ms/step - loss: 0.2376 - accuracy: 0.9039 - precision_14: 0.9550 - recall_14: 0.8445 - val_loss: 0.2691 - val_accuracy: 0.9038 - val_precision_14: 0.9503 - val_recall_14: 0.8455\n",
            "Epoch 17/100\n",
            "8/8 [==============================] - 1s 182ms/step - loss: 0.2374 - accuracy: 0.9041 - precision_14: 0.9498 - recall_14: 0.8497 - val_loss: 0.2622 - val_accuracy: 0.9095 - val_precision_14: 0.9519 - val_recall_14: 0.8495\n",
            "Epoch 18/100\n",
            "8/8 [==============================] - 1s 182ms/step - loss: 0.2313 - accuracy: 0.9087 - precision_14: 0.9552 - recall_14: 0.8501 - val_loss: 0.2693 - val_accuracy: 0.8997 - val_precision_14: 0.9408 - val_recall_14: 0.8588\n",
            "Epoch 19/100\n",
            "8/8 [==============================] - 1s 182ms/step - loss: 0.2264 - accuracy: 0.9097 - precision_14: 0.9520 - recall_14: 0.8582 - val_loss: 0.2720 - val_accuracy: 0.9090 - val_precision_14: 0.9440 - val_recall_14: 0.8636\n",
            "Epoch 20/100\n",
            "8/8 [==============================] - 1s 183ms/step - loss: 0.2234 - accuracy: 0.9100 - precision_14: 0.9481 - recall_14: 0.8653 - val_loss: 0.2613 - val_accuracy: 0.9073 - val_precision_14: 0.9397 - val_recall_14: 0.8739\n",
            "Epoch 21/100\n",
            "8/8 [==============================] - 1s 182ms/step - loss: 0.2233 - accuracy: 0.9112 - precision_14: 0.9478 - recall_14: 0.8671 - val_loss: 0.2689 - val_accuracy: 0.9106 - val_precision_14: 0.9366 - val_recall_14: 0.8756\n",
            "Epoch 22/100\n",
            "8/8 [==============================] - 1s 182ms/step - loss: 0.2169 - accuracy: 0.9120 - precision_14: 0.9461 - recall_14: 0.8740 - val_loss: 0.2723 - val_accuracy: 0.9070 - val_precision_14: 0.9362 - val_recall_14: 0.8696\n",
            "Epoch 23/100\n",
            "8/8 [==============================] - 1s 181ms/step - loss: 0.2188 - accuracy: 0.9123 - precision_14: 0.9483 - recall_14: 0.8692 - val_loss: 0.2897 - val_accuracy: 0.9111 - val_precision_14: 0.9317 - val_recall_14: 0.8839\n",
            "Epoch 24/100\n",
            "8/8 [==============================] - 1s 180ms/step - loss: 0.2188 - accuracy: 0.9121 - precision_14: 0.9465 - recall_14: 0.8737 - val_loss: 0.2907 - val_accuracy: 0.9058 - val_precision_14: 0.9304 - val_recall_14: 0.8799\n",
            "Epoch 25/100\n",
            "8/8 [==============================] - 1s 182ms/step - loss: 0.2109 - accuracy: 0.9153 - precision_14: 0.9476 - recall_14: 0.8771 - val_loss: 0.2782 - val_accuracy: 0.9040 - val_precision_14: 0.9360 - val_recall_14: 0.8739\n",
            "Epoch 26/100\n",
            "8/8 [==============================] - 1s 180ms/step - loss: 0.2100 - accuracy: 0.9126 - precision_14: 0.9496 - recall_14: 0.8731 - val_loss: 0.3014 - val_accuracy: 0.9075 - val_precision_14: 0.9315 - val_recall_14: 0.8847\n",
            "Epoch 27/100\n",
            "8/8 [==============================] - 1s 183ms/step - loss: 0.2105 - accuracy: 0.9136 - precision_14: 0.9436 - recall_14: 0.8831 - val_loss: 0.2831 - val_accuracy: 0.9093 - val_precision_14: 0.9388 - val_recall_14: 0.8786\n",
            "Epoch 28/100\n",
            "8/8 [==============================] - 1s 182ms/step - loss: 0.2037 - accuracy: 0.9156 - precision_14: 0.9477 - recall_14: 0.8805 - val_loss: 0.2733 - val_accuracy: 0.9025 - val_precision_14: 0.9282 - val_recall_14: 0.8829\n",
            "Epoch 29/100\n",
            "8/8 [==============================] - 1s 183ms/step - loss: 0.2024 - accuracy: 0.9150 - precision_14: 0.9407 - recall_14: 0.8862 - val_loss: 0.2817 - val_accuracy: 0.9073 - val_precision_14: 0.9345 - val_recall_14: 0.8817\n",
            "Epoch 30/100\n",
            "8/8 [==============================] - 1s 181ms/step - loss: 0.1941 - accuracy: 0.9197 - precision_14: 0.9493 - recall_14: 0.8876 - val_loss: 0.2906 - val_accuracy: 0.9116 - val_precision_14: 0.9295 - val_recall_14: 0.8879\n",
            "Epoch 31/100\n",
            "8/8 [==============================] - 1s 183ms/step - loss: 0.1863 - accuracy: 0.9225 - precision_14: 0.9501 - recall_14: 0.8932 - val_loss: 0.2969 - val_accuracy: 0.9090 - val_precision_14: 0.9283 - val_recall_14: 0.8882\n",
            "Epoch 32/100\n",
            "8/8 [==============================] - 1s 181ms/step - loss: 0.1851 - accuracy: 0.9217 - precision_14: 0.9464 - recall_14: 0.8976 - val_loss: 0.3000 - val_accuracy: 0.9085 - val_precision_14: 0.9336 - val_recall_14: 0.8864\n",
            "Epoch 33/100\n",
            "8/8 [==============================] - 1s 184ms/step - loss: 0.1837 - accuracy: 0.9236 - precision_14: 0.9489 - recall_14: 0.8952 - val_loss: 0.3088 - val_accuracy: 0.9101 - val_precision_14: 0.9325 - val_recall_14: 0.8852\n",
            "Epoch 34/100\n",
            "8/8 [==============================] - 1s 182ms/step - loss: 0.1829 - accuracy: 0.9238 - precision_14: 0.9487 - recall_14: 0.8969 - val_loss: 0.3154 - val_accuracy: 0.9073 - val_precision_14: 0.9232 - val_recall_14: 0.8942\n",
            "Epoch 35/100\n",
            "8/8 [==============================] - 1s 181ms/step - loss: 0.1787 - accuracy: 0.9257 - precision_14: 0.9488 - recall_14: 0.9013 - val_loss: 0.3159 - val_accuracy: 0.9106 - val_precision_14: 0.9265 - val_recall_14: 0.8937\n",
            "Epoch 36/100\n",
            "8/8 [==============================] - 1s 182ms/step - loss: 0.1774 - accuracy: 0.9252 - precision_14: 0.9507 - recall_14: 0.8999 - val_loss: 0.3320 - val_accuracy: 0.9060 - val_precision_14: 0.9270 - val_recall_14: 0.8869\n",
            "Epoch 37/100\n",
            "8/8 [==============================] - 1s 184ms/step - loss: 0.1799 - accuracy: 0.9249 - precision_14: 0.9484 - recall_14: 0.9011 - val_loss: 0.3441 - val_accuracy: 0.9078 - val_precision_14: 0.9229 - val_recall_14: 0.8874\n",
            "Epoch 38/100\n",
            "8/8 [==============================] - 1s 183ms/step - loss: 0.1785 - accuracy: 0.9265 - precision_14: 0.9503 - recall_14: 0.8997 - val_loss: 0.3070 - val_accuracy: 0.9055 - val_precision_14: 0.9296 - val_recall_14: 0.8854\n",
            "Epoch 39/100\n",
            "8/8 [==============================] - 1s 184ms/step - loss: 0.1789 - accuracy: 0.9241 - precision_14: 0.9488 - recall_14: 0.8990 - val_loss: 0.3630 - val_accuracy: 0.9093 - val_precision_14: 0.9255 - val_recall_14: 0.8892\n",
            "Epoch 40/100\n",
            "8/8 [==============================] - 1s 182ms/step - loss: 0.1789 - accuracy: 0.9261 - precision_14: 0.9494 - recall_14: 0.8992 - val_loss: 0.3064 - val_accuracy: 0.9083 - val_precision_14: 0.9302 - val_recall_14: 0.8902\n",
            "Epoch 41/100\n",
            "8/8 [==============================] - 1s 185ms/step - loss: 0.1753 - accuracy: 0.9275 - precision_14: 0.9493 - recall_14: 0.9040 - val_loss: 0.3627 - val_accuracy: 0.9126 - val_precision_14: 0.9266 - val_recall_14: 0.8977\n",
            "Epoch 42/100\n",
            "8/8 [==============================] - 1s 183ms/step - loss: 0.1706 - accuracy: 0.9276 - precision_14: 0.9478 - recall_14: 0.9070 - val_loss: 0.3561 - val_accuracy: 0.9111 - val_precision_14: 0.9252 - val_recall_14: 0.8977\n",
            "Epoch 43/100\n",
            "8/8 [==============================] - 1s 182ms/step - loss: 0.1719 - accuracy: 0.9273 - precision_14: 0.9488 - recall_14: 0.9050 - val_loss: 0.3588 - val_accuracy: 0.9101 - val_precision_14: 0.9299 - val_recall_14: 0.8902\n",
            "Epoch 44/100\n",
            "8/8 [==============================] - 1s 181ms/step - loss: 0.1687 - accuracy: 0.9279 - precision_14: 0.9508 - recall_14: 0.9045 - val_loss: 0.3586 - val_accuracy: 0.9101 - val_precision_14: 0.9235 - val_recall_14: 0.8952\n",
            "Epoch 45/100\n",
            "8/8 [==============================] - 1s 183ms/step - loss: 0.1702 - accuracy: 0.9283 - precision_14: 0.9486 - recall_14: 0.9080 - val_loss: 0.3482 - val_accuracy: 0.9050 - val_precision_14: 0.9231 - val_recall_14: 0.8897\n",
            "Epoch 46/100\n",
            "8/8 [==============================] - 1s 183ms/step - loss: 0.1670 - accuracy: 0.9294 - precision_14: 0.9484 - recall_14: 0.9101 - val_loss: 0.3548 - val_accuracy: 0.9073 - val_precision_14: 0.9231 - val_recall_14: 0.8892\n",
            "Epoch 47/100\n",
            "8/8 [==============================] - 1s 184ms/step - loss: 0.1649 - accuracy: 0.9306 - precision_14: 0.9496 - recall_14: 0.9119 - val_loss: 0.3562 - val_accuracy: 0.9113 - val_precision_14: 0.9277 - val_recall_14: 0.8995\n",
            "Epoch 48/100\n",
            "8/8 [==============================] - 1s 185ms/step - loss: 0.1593 - accuracy: 0.9311 - precision_14: 0.9512 - recall_14: 0.9126 - val_loss: 0.4106 - val_accuracy: 0.9101 - val_precision_14: 0.9253 - val_recall_14: 0.8935\n",
            "Epoch 49/100\n",
            "8/8 [==============================] - 1s 185ms/step - loss: 0.1585 - accuracy: 0.9328 - precision_14: 0.9530 - recall_14: 0.9116 - val_loss: 0.3376 - val_accuracy: 0.9095 - val_precision_14: 0.9243 - val_recall_14: 0.8930\n",
            "Epoch 50/100\n",
            "8/8 [==============================] - 1s 182ms/step - loss: 0.1550 - accuracy: 0.9344 - precision_14: 0.9524 - recall_14: 0.9151 - val_loss: 0.3661 - val_accuracy: 0.9106 - val_precision_14: 0.9195 - val_recall_14: 0.8987\n",
            "Epoch 51/100\n",
            "8/8 [==============================] - 1s 185ms/step - loss: 0.1565 - accuracy: 0.9344 - precision_14: 0.9503 - recall_14: 0.9179 - val_loss: 0.4142 - val_accuracy: 0.9063 - val_precision_14: 0.9176 - val_recall_14: 0.8955\n",
            "Epoch 52/100\n",
            "8/8 [==============================] - 1s 184ms/step - loss: 0.1518 - accuracy: 0.9347 - precision_14: 0.9519 - recall_14: 0.9186 - val_loss: 0.3876 - val_accuracy: 0.9093 - val_precision_14: 0.9252 - val_recall_14: 0.8947\n",
            "Epoch 53/100\n",
            "8/8 [==============================] - 1s 186ms/step - loss: 0.1511 - accuracy: 0.9363 - precision_14: 0.9542 - recall_14: 0.9172 - val_loss: 0.4189 - val_accuracy: 0.9123 - val_precision_14: 0.9233 - val_recall_14: 0.8987\n",
            "Epoch 54/100\n",
            "8/8 [==============================] - 1s 184ms/step - loss: 0.1506 - accuracy: 0.9358 - precision_14: 0.9535 - recall_14: 0.9181 - val_loss: 0.4348 - val_accuracy: 0.9068 - val_precision_14: 0.9164 - val_recall_14: 0.8977\n",
            "Epoch 55/100\n",
            "8/8 [==============================] - 1s 184ms/step - loss: 0.1531 - accuracy: 0.9345 - precision_14: 0.9498 - recall_14: 0.9183 - val_loss: 0.3890 - val_accuracy: 0.9063 - val_precision_14: 0.9191 - val_recall_14: 0.8962\n",
            "Epoch 56/100\n",
            "8/8 [==============================] - 2s 185ms/step - loss: 0.1500 - accuracy: 0.9362 - precision_14: 0.9523 - recall_14: 0.9209 - val_loss: 0.3806 - val_accuracy: 0.9118 - val_precision_14: 0.9236 - val_recall_14: 0.8992\n",
            "Epoch 57/100\n",
            "8/8 [==============================] - 1s 183ms/step - loss: 0.1514 - accuracy: 0.9355 - precision_14: 0.9518 - recall_14: 0.9186 - val_loss: 0.4518 - val_accuracy: 0.9108 - val_precision_14: 0.9221 - val_recall_14: 0.8980\n",
            "Epoch 58/100\n",
            "8/8 [==============================] - 1s 183ms/step - loss: 0.1522 - accuracy: 0.9337 - precision_14: 0.9525 - recall_14: 0.9152 - val_loss: 0.4201 - val_accuracy: 0.9098 - val_precision_14: 0.9208 - val_recall_14: 0.8972\n",
            "Epoch 59/100\n",
            "8/8 [==============================] - 1s 183ms/step - loss: 0.1475 - accuracy: 0.9373 - precision_14: 0.9543 - recall_14: 0.9204 - val_loss: 0.3898 - val_accuracy: 0.9080 - val_precision_14: 0.9214 - val_recall_14: 0.8925\n",
            "Epoch 60/100\n",
            "8/8 [==============================] - 1s 186ms/step - loss: 0.1424 - accuracy: 0.9383 - precision_14: 0.9540 - recall_14: 0.9232 - val_loss: 0.3755 - val_accuracy: 0.9050 - val_precision_14: 0.9189 - val_recall_14: 0.8912\n",
            "Epoch 61/100\n",
            "8/8 [==============================] - 1s 184ms/step - loss: 0.1373 - accuracy: 0.9408 - precision_14: 0.9550 - recall_14: 0.9281 - val_loss: 0.4213 - val_accuracy: 0.9053 - val_precision_14: 0.9154 - val_recall_14: 0.8945\n",
            "Epoch 62/100\n",
            "8/8 [==============================] - 1s 182ms/step - loss: 0.1452 - accuracy: 0.9379 - precision_14: 0.9524 - recall_14: 0.9248 - val_loss: 0.4231 - val_accuracy: 0.9050 - val_precision_14: 0.9215 - val_recall_14: 0.8907\n",
            "Epoch 63/100\n",
            "8/8 [==============================] - 1s 183ms/step - loss: 0.1427 - accuracy: 0.9370 - precision_14: 0.9550 - recall_14: 0.9209 - val_loss: 0.3926 - val_accuracy: 0.9008 - val_precision_14: 0.9107 - val_recall_14: 0.8894\n",
            "Epoch 64/100\n",
            "8/8 [==============================] - 1s 185ms/step - loss: 0.1446 - accuracy: 0.9377 - precision_14: 0.9524 - recall_14: 0.9255 - val_loss: 0.4089 - val_accuracy: 0.9101 - val_precision_14: 0.9174 - val_recall_14: 0.8985\n",
            "Epoch 65/100\n",
            "8/8 [==============================] - 1s 181ms/step - loss: 0.1445 - accuracy: 0.9363 - precision_14: 0.9513 - recall_14: 0.9236 - val_loss: 0.4377 - val_accuracy: 0.9053 - val_precision_14: 0.9159 - val_recall_14: 0.8942\n",
            "Epoch 66/100\n",
            "8/8 [==============================] - 1s 185ms/step - loss: 0.1398 - accuracy: 0.9385 - precision_14: 0.9528 - recall_14: 0.9262 - val_loss: 0.4155 - val_accuracy: 0.9138 - val_precision_14: 0.9255 - val_recall_14: 0.9025\n",
            "Epoch 67/100\n",
            "8/8 [==============================] - 1s 182ms/step - loss: 0.1389 - accuracy: 0.9400 - precision_14: 0.9532 - recall_14: 0.9273 - val_loss: 0.4340 - val_accuracy: 0.9093 - val_precision_14: 0.9238 - val_recall_14: 0.8960\n",
            "Epoch 68/100\n",
            "8/8 [==============================] - 1s 181ms/step - loss: 0.1404 - accuracy: 0.9382 - precision_14: 0.9553 - recall_14: 0.9224 - val_loss: 0.4256 - val_accuracy: 0.9095 - val_precision_14: 0.9201 - val_recall_14: 0.9000\n",
            "Epoch 69/100\n",
            "8/8 [==============================] - 1s 181ms/step - loss: 0.1369 - accuracy: 0.9407 - precision_14: 0.9529 - recall_14: 0.9295 - val_loss: 0.4406 - val_accuracy: 0.9068 - val_precision_14: 0.9178 - val_recall_14: 0.9008\n",
            "Epoch 70/100\n",
            "8/8 [==============================] - 1s 182ms/step - loss: 0.1306 - accuracy: 0.9415 - precision_14: 0.9530 - recall_14: 0.9316 - val_loss: 0.4284 - val_accuracy: 0.9118 - val_precision_14: 0.9206 - val_recall_14: 0.9025\n",
            "Epoch 71/100\n",
            "8/8 [==============================] - 1s 182ms/step - loss: 0.1296 - accuracy: 0.9433 - precision_14: 0.9567 - recall_14: 0.9313 - val_loss: 0.4957 - val_accuracy: 0.9098 - val_precision_14: 0.9180 - val_recall_14: 0.9028\n",
            "Epoch 72/100\n",
            "8/8 [==============================] - 1s 182ms/step - loss: 0.1325 - accuracy: 0.9415 - precision_14: 0.9539 - recall_14: 0.9301 - val_loss: 0.4254 - val_accuracy: 0.9088 - val_precision_14: 0.9206 - val_recall_14: 0.8915\n",
            "Epoch 73/100\n",
            "8/8 [==============================] - 1s 185ms/step - loss: 0.1348 - accuracy: 0.9416 - precision_14: 0.9544 - recall_14: 0.9302 - val_loss: 0.4627 - val_accuracy: 0.9095 - val_precision_14: 0.9183 - val_recall_14: 0.8985\n",
            "Epoch 74/100\n",
            "8/8 [==============================] - 2s 187ms/step - loss: 0.1302 - accuracy: 0.9432 - precision_14: 0.9551 - recall_14: 0.9324 - val_loss: 0.4534 - val_accuracy: 0.9075 - val_precision_14: 0.9169 - val_recall_14: 0.8985\n",
            "Epoch 75/100\n",
            "8/8 [==============================] - 1s 185ms/step - loss: 0.1272 - accuracy: 0.9430 - precision_14: 0.9554 - recall_14: 0.9321 - val_loss: 0.4467 - val_accuracy: 0.9101 - val_precision_14: 0.9206 - val_recall_14: 0.9030\n",
            "Epoch 76/100\n",
            "8/8 [==============================] - 1s 183ms/step - loss: 0.1312 - accuracy: 0.9430 - precision_14: 0.9556 - recall_14: 0.9318 - val_loss: 0.4499 - val_accuracy: 0.9141 - val_precision_14: 0.9216 - val_recall_14: 0.9040\n",
            "Epoch 77/100\n",
            "8/8 [==============================] - 2s 188ms/step - loss: 0.1422 - accuracy: 0.9387 - precision_14: 0.9500 - recall_14: 0.9282 - val_loss: 0.4700 - val_accuracy: 0.9053 - val_precision_14: 0.9126 - val_recall_14: 0.8942\n",
            "Epoch 78/100\n",
            "8/8 [==============================] - 1s 183ms/step - loss: 0.1482 - accuracy: 0.9349 - precision_14: 0.9494 - recall_14: 0.9217 - val_loss: 0.3990 - val_accuracy: 0.9075 - val_precision_14: 0.9190 - val_recall_14: 0.8950\n",
            "Epoch 79/100\n",
            "8/8 [==============================] - 1s 184ms/step - loss: 0.1425 - accuracy: 0.9367 - precision_14: 0.9516 - recall_14: 0.9233 - val_loss: 0.4332 - val_accuracy: 0.9070 - val_precision_14: 0.9160 - val_recall_14: 0.8955\n",
            "Epoch 80/100\n",
            "8/8 [==============================] - 1s 185ms/step - loss: 0.1371 - accuracy: 0.9395 - precision_14: 0.9525 - recall_14: 0.9284 - val_loss: 0.4139 - val_accuracy: 0.9118 - val_precision_14: 0.9232 - val_recall_14: 0.8997\n",
            "Epoch 81/100\n",
            "8/8 [==============================] - 1s 184ms/step - loss: 0.1322 - accuracy: 0.9416 - precision_14: 0.9548 - recall_14: 0.9290 - val_loss: 0.5101 - val_accuracy: 0.9113 - val_precision_14: 0.9168 - val_recall_14: 0.9023\n",
            "Epoch 82/100\n",
            "8/8 [==============================] - 2s 185ms/step - loss: 0.1242 - accuracy: 0.9448 - precision_14: 0.9561 - recall_14: 0.9334 - val_loss: 0.4495 - val_accuracy: 0.9133 - val_precision_14: 0.9216 - val_recall_14: 0.9033\n",
            "Epoch 83/100\n",
            "8/8 [==============================] - 1s 186ms/step - loss: 0.1187 - accuracy: 0.9470 - precision_14: 0.9579 - recall_14: 0.9369 - val_loss: 0.4309 - val_accuracy: 0.9133 - val_precision_14: 0.9239 - val_recall_14: 0.9028\n",
            "Epoch 84/100\n",
            "8/8 [==============================] - 1s 184ms/step - loss: 0.1248 - accuracy: 0.9461 - precision_14: 0.9595 - recall_14: 0.9329 - val_loss: 0.5056 - val_accuracy: 0.9068 - val_precision_14: 0.9170 - val_recall_14: 0.8962\n",
            "Epoch 85/100\n",
            "8/8 [==============================] - 1s 183ms/step - loss: 0.1231 - accuracy: 0.9455 - precision_14: 0.9577 - recall_14: 0.9347 - val_loss: 0.4803 - val_accuracy: 0.9083 - val_precision_14: 0.9182 - val_recall_14: 0.8965\n",
            "Epoch 86/100\n",
            "8/8 [==============================] - 1s 183ms/step - loss: 0.1233 - accuracy: 0.9447 - precision_14: 0.9583 - recall_14: 0.9317 - val_loss: 0.5658 - val_accuracy: 0.9106 - val_precision_14: 0.9199 - val_recall_14: 0.9028\n",
            "Epoch 87/100\n",
            "8/8 [==============================] - 1s 184ms/step - loss: 0.1255 - accuracy: 0.9440 - precision_14: 0.9569 - recall_14: 0.9326 - val_loss: 0.5384 - val_accuracy: 0.9143 - val_precision_14: 0.9200 - val_recall_14: 0.9070\n",
            "Epoch 88/100\n",
            "8/8 [==============================] - 1s 184ms/step - loss: 0.1201 - accuracy: 0.9466 - precision_14: 0.9575 - recall_14: 0.9368 - val_loss: 0.4697 - val_accuracy: 0.9085 - val_precision_14: 0.9193 - val_recall_14: 0.9018\n",
            "Epoch 89/100\n",
            "8/8 [==============================] - 1s 182ms/step - loss: 0.1153 - accuracy: 0.9485 - precision_14: 0.9589 - recall_14: 0.9391 - val_loss: 0.5313 - val_accuracy: 0.9123 - val_precision_14: 0.9175 - val_recall_14: 0.9055\n",
            "Epoch 90/100\n",
            "8/8 [==============================] - 1s 183ms/step - loss: 0.1124 - accuracy: 0.9488 - precision_14: 0.9609 - recall_14: 0.9379 - val_loss: 0.5860 - val_accuracy: 0.9113 - val_precision_14: 0.9159 - val_recall_14: 0.9058\n",
            "Epoch 91/100\n",
            "8/8 [==============================] - 1s 183ms/step - loss: 0.1084 - accuracy: 0.9520 - precision_14: 0.9609 - recall_14: 0.9437 - val_loss: 0.5693 - val_accuracy: 0.9141 - val_precision_14: 0.9215 - val_recall_14: 0.9090\n",
            "Epoch 92/100\n",
            "8/8 [==============================] - 1s 183ms/step - loss: 0.1153 - accuracy: 0.9491 - precision_14: 0.9591 - recall_14: 0.9400 - val_loss: 0.5717 - val_accuracy: 0.9103 - val_precision_14: 0.9183 - val_recall_14: 0.9035\n",
            "Epoch 93/100\n",
            "8/8 [==============================] - 1s 185ms/step - loss: 0.1209 - accuracy: 0.9469 - precision_14: 0.9566 - recall_14: 0.9368 - val_loss: 0.5123 - val_accuracy: 0.9090 - val_precision_14: 0.9168 - val_recall_14: 0.9030\n",
            "Epoch 94/100\n",
            "8/8 [==============================] - 1s 185ms/step - loss: 0.1216 - accuracy: 0.9485 - precision_14: 0.9582 - recall_14: 0.9386 - val_loss: 0.5354 - val_accuracy: 0.9088 - val_precision_14: 0.9165 - val_recall_14: 0.8987\n",
            "Epoch 95/100\n",
            "8/8 [==============================] - 1s 184ms/step - loss: 0.1294 - accuracy: 0.9432 - precision_14: 0.9562 - recall_14: 0.9319 - val_loss: 0.4952 - val_accuracy: 0.9090 - val_precision_14: 0.9172 - val_recall_14: 0.8995\n",
            "Epoch 96/100\n",
            "8/8 [==============================] - 1s 183ms/step - loss: 0.1360 - accuracy: 0.9419 - precision_14: 0.9540 - recall_14: 0.9303 - val_loss: 0.4389 - val_accuracy: 0.9085 - val_precision_14: 0.9173 - val_recall_14: 0.9008\n",
            "Epoch 97/100\n",
            "8/8 [==============================] - 1s 186ms/step - loss: 0.1261 - accuracy: 0.9452 - precision_14: 0.9546 - recall_14: 0.9356 - val_loss: 0.4512 - val_accuracy: 0.9116 - val_precision_14: 0.9176 - val_recall_14: 0.9063\n",
            "Epoch 98/100\n",
            "8/8 [==============================] - 1s 183ms/step - loss: 0.1277 - accuracy: 0.9467 - precision_14: 0.9564 - recall_14: 0.9381 - val_loss: 0.4412 - val_accuracy: 0.9058 - val_precision_14: 0.9183 - val_recall_14: 0.8980\n",
            "Epoch 99/100\n",
            "8/8 [==============================] - 1s 180ms/step - loss: 0.1229 - accuracy: 0.9436 - precision_14: 0.9573 - recall_14: 0.9328 - val_loss: 0.5076 - val_accuracy: 0.9090 - val_precision_14: 0.9146 - val_recall_14: 0.9040\n",
            "Epoch 100/100\n",
            "8/8 [==============================] - 1s 185ms/step - loss: 0.1182 - accuracy: 0.9482 - precision_14: 0.9584 - recall_14: 0.9384 - val_loss: 0.4805 - val_accuracy: 0.9103 - val_precision_14: 0.9202 - val_recall_14: 0.9005\n",
            "\n",
            " Evaluate the new model against the test set:\n",
            "4/4 [==============================] - 0s 70ms/step - loss: 0.5019 - accuracy: 0.9029 - precision_14: 0.9140 - recall_14: 0.8931\n"
          ]
        },
        {
          "output_type": "execute_result",
          "data": {
            "text/plain": [
              "[0.5019248127937317,\n",
              " 0.9028670787811279,\n",
              " 0.9139605164527893,\n",
              " 0.8930721282958984]"
            ]
          },
          "metadata": {},
          "execution_count": 247
        },
        {
          "output_type": "display_data",
          "data": {
            "image/png": "[encoded data removed]",
            "text/plain": [
              "<Figure size 1440x720 with 1 Axes>"
            ]
          },
          "metadata": {
            "needs_background": "light"
          }
        }
      ]
    },
    {
      "cell_type": "markdown",
      "metadata": {
        "id": "Lnjh_S2NyuAu"
      },
      "source": [
        "# **Plotting Feature Importance**"
      ]
    },
    {
      "cell_type": "code",
      "metadata": {
        "id": "-wT_xI2xmBNm",
        "colab": {
          "base_uri": "https://localhost:8080/",
          "height": 777
        },
        "outputId": "734089e7-9fd3-4b42-ab4e-d0b106166ee3"
      },
      "source": [
        "import matplotlib.pyplot as plt\n",
        "from xgboost import plot_importance, XGBClassifier\n",
        "plt.rcParams[\"figure.figsize\"] = (20,10)\n",
        "\n",
        "xg_reg = xgb.XGBClassifier(base_score=0.5, booster='dart', colsample_bylevel=1,\n",
        "             colsample_bynode=1, colsample_bytree=0.4, gamma=0.0,\n",
        "             importance_type='gain', learning_rate=0.05, max_delta_step=0,\n",
        "             max_depth=3, min_child_weight=7, missing=None, n_estimators=100,\n",
        "             n_jobs=1,num_class=3, nthread=None, objective='multi:softmax',\n",
        "             random_state=0, reg_alpha=0, reg_lambda=1, scale_pos_weight=1,\n",
        "             seed=None, silent=None, subsample=1, verbosity=1)\n",
        "xg_reg.fit(x_, y_)\n",
        "cross_val_score(xg_reg, x4, y_train, cv=5, scoring='accuracy')\n",
        "\n",
        "plot_importance(xg_reg)\n",
        "plt.show()"
      ],
      "execution_count": 244,
      "outputs": [
        {
          "output_type": "stream",
          "name": "stderr",
          "text": [
            "/usr/local/lib/python3.7/dist-packages/sklearn/preprocessing/_label.py:235: DataConversionWarning: A column-vector y was passed when a 1d array was expected. Please change the shape of y to (n_samples, ), for example using ravel().\n",
            "  y = column_or_1d(y, warn=True)\n",
            "/usr/local/lib/python3.7/dist-packages/sklearn/preprocessing/_label.py:268: DataConversionWarning: A column-vector y was passed when a 1d array was expected. Please change the shape of y to (n_samples, ), for example using ravel().\n",
            "  y = column_or_1d(y, warn=True)\n",
            "/usr/local/lib/python3.7/dist-packages/sklearn/preprocessing/_label.py:235: DataConversionWarning: A column-vector y was passed when a 1d array was expected. Please change the shape of y to (n_samples, ), for example using ravel().\n",
            "  y = column_or_1d(y, warn=True)\n",
            "/usr/local/lib/python3.7/dist-packages/sklearn/preprocessing/_label.py:268: DataConversionWarning: A column-vector y was passed when a 1d array was expected. Please change the shape of y to (n_samples, ), for example using ravel().\n",
            "  y = column_or_1d(y, warn=True)\n"
          ]
        },
        {
          "output_type": "display_data",
          "data": {
            "image/png": "[encoded data removed]",
            "text/plain": [
              "<Figure size 1440x720 with 1 Axes>"
            ]
          },
          "metadata": {
            "needs_background": "light"
          }
        }
      ]
    },
    {
      "cell_type": "markdown",
      "metadata": {
        "id": "a1WCbCJt2Vsp"
      },
      "source": [
        "# **Training the Final Model**"
      ]
    },
    {
      "cell_type": "code",
      "metadata": {
        "id": "IFNJvY4fsNBr",
        "colab": {
          "base_uri": "https://localhost:8080/"
        },
        "outputId": "8cc06c4b-1774-4f3a-a47d-1a7ae601b466"
      },
      "source": [
        "from sklearn.ensemble import RandomForestClassifier\n",
        "from sklearn.metrics import f1_score\n",
        "\n",
        "from sklearn.ensemble import RandomForestClassifier\n",
        "from sklearn.metrics import f1_score\n",
        "\n",
        "rfc = RandomForestClassifier(n_estimators=800, max_depth=None, min_samples_split=6, min_samples_leaf=2, \n",
        "                               max_features='auto', min_impurity_decrease=0.1, min_impurity_split=None, \n",
        "                               bootstrap=True, warm_start=True)\n",
        "rfc.fit(x5, train_y)\n",
        "\n",
        "predictions_rfc = rfc.predict(xt5)"
      ],
      "execution_count": 248,
      "outputs": [
        {
          "output_type": "stream",
          "name": "stderr",
          "text": [
            "/usr/local/lib/python3.7/dist-packages/ipykernel_launcher.py:10: DataConversionWarning: A column-vector y was passed when a 1d array was expected. Please change the shape of y to (n_samples,), for example using ravel().\n",
            "  # Remove the CWD from sys.path while we load stuff.\n"
          ]
        }
      ]
    },
    {
      "cell_type": "markdown",
      "metadata": {
        "id": "WlZWJUGhTZWO"
      },
      "source": [
        "# **Saving the Final Results**"
      ]
    },
    {
      "cell_type": "code",
      "metadata": {
        "id": "1KcN05h8lO1a"
      },
      "source": [
        "y_test = pd.DataFrame(predictions_rfc)"
      ],
      "execution_count": 249,
      "outputs": []
    },
    {
      "cell_type": "code",
      "metadata": {
        "id": "kcEO8ljClmuc"
      },
      "source": [
        "y_test\n",
        "y_test.replace({2:'functional', 1:'functional needs repair', 0:'non functional'}, inplace=True)"
      ],
      "execution_count": 250,
      "outputs": []
    },
    {
      "cell_type": "code",
      "metadata": {
        "id": "FktjCBFblm1d"
      },
      "source": [
        "sub = pd.DataFrame()\n",
        "sub['id'] = test_x['id']\n",
        "sub['status_group'] = y_test"
      ],
      "execution_count": 251,
      "outputs": []
    },
    {
      "cell_type": "code",
      "metadata": {
        "id": "i1qp_rpHnNm3"
      },
      "source": [
        "sub.to_csv(test_y_path,index=False)"
      ],
      "execution_count": 252,
      "outputs": []
    }
  ]
}